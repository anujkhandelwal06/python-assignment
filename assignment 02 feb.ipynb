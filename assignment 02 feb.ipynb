{
 "cells": [
  {
   "cell_type": "code",
   "execution_count": 1,
   "id": "d95cb292-8c9f-41c4-b4ae-8aea85d9818a",
   "metadata": {},
   "outputs": [],
   "source": [
    "##Q1.  Explain with an example each when to use a for loop and a while loop"
   ]
  },
  {
   "cell_type": "code",
   "execution_count": 6,
   "id": "e0a690b8-61fd-4b55-a3e2-5b9d154fc640",
   "metadata": {},
   "outputs": [],
   "source": [
    "## For Loop : it remove element from the list one by one if there are mutiple list in below code for loop remove one element as 1 and then store in value as 'i' and then print the value as 'i'."
   ]
  },
  {
   "cell_type": "code",
   "execution_count": 3,
   "id": "6cd18005-de2a-4894-a8ca-991242f63ee2",
   "metadata": {},
   "outputs": [],
   "source": [
    "l=[1,2,3,4,5,6,7,8,9]"
   ]
  },
  {
   "cell_type": "code",
   "execution_count": 4,
   "id": "2e6c2981-fb2b-401b-a8fc-a665fb4def4d",
   "metadata": {},
   "outputs": [
    {
     "name": "stdout",
     "output_type": "stream",
     "text": [
      "1\n",
      "2\n",
      "3\n",
      "4\n",
      "5\n",
      "6\n",
      "7\n",
      "8\n",
      "9\n"
     ]
    }
   ],
   "source": [
    "l1=[]\n",
    "for i in l:\n",
    "  print(i)\n",
    "  l1.append(i+1)"
   ]
  },
  {
   "cell_type": "code",
   "execution_count": 5,
   "id": "a402be7c-0a02-47f4-b3ea-0becabf356c6",
   "metadata": {},
   "outputs": [
    {
     "data": {
      "text/plain": [
       "[2, 3, 4, 5, 6, 7, 8, 9, 10]"
      ]
     },
     "execution_count": 5,
     "metadata": {},
     "output_type": "execute_result"
    }
   ],
   "source": [
    "l1"
   ]
  },
  {
   "cell_type": "code",
   "execution_count": 7,
   "id": "717bc82e-3a80-46e9-9aef-235975768fa4",
   "metadata": {},
   "outputs": [],
   "source": [
    "## While Loop :With the while loop we can execute a set of statements as long as a condition is true and it requires relevant variables to be ready, in this example we need to define an indexing variable, i, which we set to 1."
   ]
  },
  {
   "cell_type": "code",
   "execution_count": 8,
   "id": "b3c5a568-5e84-4afc-b146-8f2c90fbc3b0",
   "metadata": {},
   "outputs": [
    {
     "name": "stdout",
     "output_type": "stream",
     "text": [
      "1\n",
      "2\n",
      "3\n",
      "4\n",
      "5\n"
     ]
    }
   ],
   "source": [
    "i = 1\n",
    "while i < 6:\n",
    "  print(i)\n",
    "  i += 1"
   ]
  },
  {
   "cell_type": "code",
   "execution_count": null,
   "id": "071486f9-132f-4a40-a080-1c333bd13a0e",
   "metadata": {},
   "outputs": [],
   "source": [
    "##Q2.  Write a python program to print the sum and product of the first 10 natural numbers using for \n",
    "and while loop."
   ]
  },
  {
   "cell_type": "code",
   "execution_count": 2,
   "id": "7daa8ca9-025b-4702-a4d0-c92c22811244",
   "metadata": {},
   "outputs": [
    {
     "name": "stdout",
     "output_type": "stream",
     "text": [
      "Sum of first 10 natural numbers: 55\n",
      "Product of first 10 natural numbers: 3628800\n"
     ]
    }
   ],
   "source": [
    "# calculate sum and product of first 10 natural numbers using for loop\n",
    "n = 10\n",
    "sum = 0\n",
    "product = 1\n",
    "# sum and product calculation using for loop\n",
    "for i in range(1, n+1):\n",
    "    sum += i\n",
    "    product *= i\n",
    "print(\"Sum of first 10 natural numbers:\", sum)\n",
    "print(\"Product of first 10 natural numbers:\", product)"
   ]
  },
  {
   "cell_type": "code",
   "execution_count": 4,
   "id": "7bc7850f-4646-4c9c-a4ac-2257d07391d0",
   "metadata": {},
   "outputs": [
    {
     "name": "stdout",
     "output_type": "stream",
     "text": [
      "sum of frist 10 natural numbers: 55\n",
      "Product of first 10 natural numbers: 3628800\n"
     ]
    }
   ],
   "source": [
    "# calculate sum and product of first 10 natural numbers using While loop\n",
    "n=10\n",
    "sum=0\n",
    "product=1\n",
    "i=1\n",
    "#sum and product calculation using while loop\n",
    "while i <=n:\n",
    "    sum+=i\n",
    "    product*=i\n",
    "    i+=1\n",
    "print(\"sum of frist 10 natural numbers:\",sum)\n",
    "print(\"Product of first 10 natural numbers:\", product)"
   ]
  },
  {
   "cell_type": "code",
   "execution_count": 3,
   "id": "bad6b9dc-d525-4e5f-b1e7-51af2a932128",
   "metadata": {},
   "outputs": [
    {
     "name": "stdin",
     "output_type": "stream",
     "text": [
      "Enter the  number of units consumed: 310\n"
     ]
    },
    {
     "name": "stdout",
     "output_type": "stream",
     "text": [
      "Total electricity bill: Rs. 2250.0\n"
     ]
    }
   ],
   "source": [
    "##Q.3. \n",
    "units_consumed=int(input(\"Enter the  number of units consumed:\"))\n",
    "total_bill=0\n",
    "if units_consumed<=100:\n",
    "  total_bill=units_consumed*4.5\n",
    "elif units_consumed<=200:\n",
    "   total_bill=100*4.5+(units_consumed-100)*6\n",
    "elif units_consumed <= 300:\n",
    "   total_bill = 100 * 4.5 + 100 * 6 + (units_consumed - 200) * 10\n",
    "else:\n",
    "  total_bill = 100 * 4.5 + 100 * 6 + 100 * 10 + (units_consumed - 300) * 20\n",
    "print(\"Total electricity bill: Rs.\", total_bill) "
   ]
  },
  {
   "cell_type": "code",
   "execution_count": 2,
   "id": "92eccfa2-3bbb-4b73-bbc1-a0e361164699",
   "metadata": {},
   "outputs": [
    {
     "name": "stdout",
     "output_type": "stream",
     "text": [
      "[2, 4, 5, 6, 8, 10, 12, 14, 15, 16, 18, 20, 22, 24, 25, 26, 28, 30, 32, 34, 35, 36, 38, 40, 42, 44, 45, 46, 48, 50, 52, 54, 55, 56, 58, 60, 62, 64, 65, 66, 68, 70, 72, 74, 75, 76, 78, 80, 82, 84, 85, 86, 88, 90, 92, 94, 95, 96, 98, 100]\n"
     ]
    }
   ],
   "source": [
    "##Q.4. Using For loop\n",
    "cubes = []\n",
    "for num in range(1, 101):\n",
    "    cube = num ** 3\n",
    "    if cube % 4 == 0 or cube % 5 == 0:\n",
    "        cubes.append(num)\n",
    "print(cubes)\n"
   ]
  },
  {
   "cell_type": "code",
   "execution_count": 4,
   "id": "c39219d3-07ff-4853-b6bb-ab27c8ee9adb",
   "metadata": {},
   "outputs": [
    {
     "name": "stdout",
     "output_type": "stream",
     "text": [
      "[2, 4, 5, 6, 8, 10, 12, 14, 15, 16, 18, 20, 22, 24, 25, 26, 28, 30, 32, 34, 35, 36, 38, 40, 42, 44, 45, 46, 48, 50, 52, 54, 55, 56, 58, 60, 62, 64, 65, 66, 68, 70, 72, 74, 75, 76, 78, 80, 82, 84, 85, 86, 88, 90, 92, 94, 95, 96, 98, 100]\n"
     ]
    }
   ],
   "source": [
    "##Q.4. Using While loop\n",
    "cubes = []\n",
    "num = 1\n",
    "while num <= 100:\n",
    "    cube = num ** 3\n",
    "    if cube % 4 == 0 or cube % 5 == 0:\n",
    "        cubes.append(num)\n",
    "    num += 1\n",
    "print(cubes)"
   ]
  },
  {
   "cell_type": "code",
   "execution_count": 5,
   "id": "987ae64e-d110-4961-ad91-0c8e076fb7fa",
   "metadata": {},
   "outputs": [
    {
     "ename": "IndentationError",
     "evalue": "expected an indented block after 'for' statement on line 7 (770868072.py, line 8)",
     "output_type": "error",
     "traceback": [
      "\u001b[0;36m  Cell \u001b[0;32mIn[5], line 8\u001b[0;36m\u001b[0m\n\u001b[0;31m    print(f\"{vowel}:{count}\")\u001b[0m\n\u001b[0m    ^\u001b[0m\n\u001b[0;31mIndentationError\u001b[0m\u001b[0;31m:\u001b[0m expected an indented block after 'for' statement on line 7\n"
     ]
    }
   ],
   "source": [
    "s= \"I want to become a data scientist\"\n",
    "vowels='aeiou'\n",
    "vowel_count={v: 0 for V in vowels}\n",
    "for char in s:\n",
    "    if char in vowels:\n",
    "        vowel_count[char]+=1\n",
    "for vowel,count in vowel_count.items():\n",
    "print(f\"{vowel}:{count}\")\n"
   ]
  },
  {
   "cell_type": "code",
   "execution_count": 6,
   "id": "db878fda-c3bc-4546-b1f9-faa36a24a7cc",
   "metadata": {},
   "outputs": [
    {
     "name": "stdout",
     "output_type": "stream",
     "text": [
      "a: 4\n",
      "e: 3\n",
      "i: 2\n",
      "o: 2\n",
      "u: 0\n"
     ]
    }
   ],
   "source": [
    "string = \"I want to become a data scientist\"\n",
    "\n",
    "vowels = 'aeiou'\n",
    "# initialize a dictionary to store the count of each vowel\n",
    "vowel_count = {v: 0 for v in vowels}\n",
    "\n",
    "# iterate through each character in the string\n",
    "for char in string:\n",
    "    # check if the character is a vowel\n",
    "    if char in vowels:\n",
    "        # increment the count of the corresponding vowel in the dictionary\n",
    "        vowel_count[char] += 1\n",
    "\n",
    "# print the count of each vowel\n",
    "for vowel, count in vowel_count.items():\n",
    "    print(f\"{vowel}: {count}\")\n"
   ]
  },
  {
   "cell_type": "code",
   "execution_count": null,
   "id": "f3661f1b-ccde-48d2-bb36-1c387fae35d9",
   "metadata": {},
   "outputs": [],
   "source": []
  }
 ],
 "metadata": {
  "kernelspec": {
   "display_name": "Python 3 (ipykernel)",
   "language": "python",
   "name": "python3"
  },
  "language_info": {
   "codemirror_mode": {
    "name": "ipython",
    "version": 3
   },
   "file_extension": ".py",
   "mimetype": "text/x-python",
   "name": "python",
   "nbconvert_exporter": "python",
   "pygments_lexer": "ipython3",
   "version": "3.10.8"
  }
 },
 "nbformat": 4,
 "nbformat_minor": 5
}
